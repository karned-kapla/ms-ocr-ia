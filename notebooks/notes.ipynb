{
 "cells": [
  {
   "cell_type": "markdown",
   "source": [
    "# notes"
   ],
   "metadata": {
    "collapsed": false
   },
   "id": "ca70daa533fe324a"
  },
  {
   "cell_type": "markdown",
   "source": [
    "Repo de l'app : https://github.com/mindee/doctr/\n",
    "Quick start : https://developers.mindee.com/docs/python-fr-id-card-ocr\n",
    "Promo : https://www.mindee.com/product/doctr\n",
    "Demo : https://huggingface.co/spaces/mindee/doctr"
   ],
   "metadata": {
    "collapsed": false
   },
   "id": "ebb96d2d5a7a6527"
  },
  {
   "cell_type": "markdown",
   "source": [
    "## plusieurs modèles"
   ],
   "metadata": {
    "collapsed": false
   },
   "id": "cebc1004e6f19eea"
  },
  {
   "cell_type": "markdown",
   "source": [
    "https://mindee.github.io/doctr/using_doctr/using_models.html"
   ],
   "metadata": {
    "collapsed": false
   },
   "id": "585ad6f4e0e572df"
  },
  {
   "cell_type": "markdown",
   "source": [
    "il y a des modèles sur hugging face àà voir !\n",
    "\n",
    "ily a des notebook intéressants\n",
    "\n",
    "https://github.com/mindee/notebooks/tree/main\n",
    "un sur le PDF\n",
    "un sur les image"
   ],
   "metadata": {
    "collapsed": false
   },
   "id": "583dca7bf11244ea"
  },
  {
   "cell_type": "markdown",
   "source": [
    "## todo\n",
    "- [x] retourner les données complètes (il manque Geometry)\n",
    "- [ ] contrôler la présence d'artifact\n",
    "- [ ] créer un df du tout hors API\n",
    "- [ ] tester sur une image où le nb de mot était de 0"
   ],
   "metadata": {
    "collapsed": false
   },
   "id": "b61072d17ccf7e9f"
  }
 ],
 "metadata": {
  "kernelspec": {
   "display_name": "Python 3",
   "language": "python",
   "name": "python3"
  },
  "language_info": {
   "codemirror_mode": {
    "name": "ipython",
    "version": 2
   },
   "file_extension": ".py",
   "mimetype": "text/x-python",
   "name": "python",
   "nbconvert_exporter": "python",
   "pygments_lexer": "ipython2",
   "version": "2.7.6"
  }
 },
 "nbformat": 4,
 "nbformat_minor": 5
}

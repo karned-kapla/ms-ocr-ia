{
 "cells": [
  {
   "cell_type": "markdown",
   "source": [
    "# test de validation"
   ],
   "metadata": {
    "collapsed": false
   },
   "id": "d75956277d324bca"
  },
  {
   "cell_type": "code",
   "execution_count": 1,
   "id": "initial_id",
   "metadata": {
    "collapsed": true,
    "ExecuteTime": {
     "end_time": "2024-03-20T22:06:21.046227711Z",
     "start_time": "2024-03-20T22:06:18.421666203Z"
    }
   },
   "source": [
    "%matplotlib inline\n",
    "import os\n",
    "import json\n",
    "\n",
    "os.environ['USE_TORCH'] = '1'\n",
    "\n",
    "import matplotlib.pyplot as plt\n",
    "\n",
    "from doctr.io import DocumentFile\n",
    "from doctr.models import ocr_predictor"
   ],
   "outputs": []
  },
  {
   "cell_type": "code",
   "source": [
    "path = '/home/skit/formation/ml/datas/final'"
   ],
   "metadata": {
    "collapsed": false,
    "ExecuteTime": {
     "end_time": "2024-03-20T22:06:21.052496949Z",
     "start_time": "2024-03-20T22:06:21.048754666Z"
    }
   },
   "id": "f1da4af92cd729b0",
   "execution_count": 2,
   "outputs": []
  },
  {
   "cell_type": "code",
   "source": [
    "def ocr_treatment(img_path):\n",
    "\tdoc = DocumentFile.from_images(img_path)\n",
    "\tpredictor = ocr_predictor('linknet_resnet18', pretrained=True, assume_straight_pages=False, preserve_aspect_ratio=True, det_bs=4, reco_bs=1024)\n",
    "\tresult = predictor(doc)\n",
    "\treturn result\n",
    "\n",
    "def ocr_display(result):\n",
    "\tsynthetic_pages = result.synthesize()\n",
    "\tplt.figure(figsize=(15, 15))\n",
    "\tplt.imshow(synthetic_pages[0]); plt.axis('off'); plt.show()\n",
    "\t\n",
    "\t\n",
    "def extract_text_blocks(json_data):\n",
    "    text_blocks = []\n",
    "    for page in json_data[\"pages\"]:\n",
    "        for block in page[\"blocks\"]:\n",
    "            text = \"\"\n",
    "            for line in block[\"lines\"]:\n",
    "                for word in line[\"words\"]:\n",
    "                    text += word[\"value\"] + \" \"\n",
    "            text_blocks.append(text.strip())\n",
    "    return text_blocks\n",
    "\n",
    "\n",
    "def ocr_display_text(result):\n",
    "\tjson_data = result.export()\n",
    "\ttext_blocks = extract_text_blocks(json_data)\n",
    "\tfor i, block in enumerate(text_blocks, start=1):\n",
    "\t\tprint(f\"Block {i}: {block}\")\n",
    "\t\n",
    "\t\n",
    "def save_json(result, file_name='result'):\n",
    "\twith open(file_name + '.json', 'w') as f:\n",
    "\t\tf.write(json.dumps(result.export()))\n",
    "\t\n",
    "\t\n",
    "def save_txt(result, file_name='result'):\n",
    "\twith open(file_name + '.txt', 'w') as f:\n",
    "\t\tf.write(result.render())"
   ],
   "metadata": {
    "collapsed": false,
    "ExecuteTime": {
     "end_time": "2024-03-20T22:47:54.622647660Z",
     "start_time": "2024-03-20T22:47:54.550062805Z"
    }
   },
   "id": "739228f2bfc4edd7",
   "execution_count": 7,
   "outputs": []
  },
  {
   "cell_type": "code",
   "source": [
    "# load list from 'bad_ocr.txt' file\n",
    "with open('bad_ocr.txt', 'r') as f:\n",
    "\tbad_ocr = f.read().splitlines()\n",
    "from random import randint"
   ],
   "metadata": {
    "collapsed": false,
    "ExecuteTime": {
     "end_time": "2024-03-20T22:47:58.084196875Z",
     "start_time": "2024-03-20T22:47:58.068648371Z"
    }
   },
   "id": "92b14ea33e5e7f4a",
   "execution_count": 8,
   "outputs": []
  },
  {
   "cell_type": "code",
   "source": [
    "img_path = os.path.join(path, bad_ocr[randint(0, len(bad_ocr) - 1)])\n",
    "result = ocr_treatment(img_path)\n",
    "result.show()\n",
    "#ocr_display(result)\n",
    "ocr_display_text(result)\n",
    "save_txt(result)\n",
    "save_json(result)"
   ],
   "metadata": {
    "collapsed": false,
    "ExecuteTime": {
     "end_time": "2024-03-20T22:48:44.672589604Z",
     "start_time": "2024-03-20T22:48:40.824537478Z"
    }
   },
   "id": "8b3795c0d2dc1e29",
   "execution_count": 11,
   "outputs": []
  },
  {
   "cell_type": "code",
   "source": [
    "model = 'linknet_resnet50'"
   ],
   "metadata": {
    "collapsed": false,
    "ExecuteTime": {
     "end_time": "2024-03-20T08:00:32.279364559Z",
     "start_time": "2024-03-20T08:00:32.227296122Z"
    }
   },
   "id": "4308cd0d116d789a",
   "execution_count": 5,
   "outputs": []
  },
  {
   "cell_type": "code",
   "source": [
    "totreat = []\n",
    "\n",
    "with open('to_ocr.txt', 'r') as f:\n",
    "\tfiles = f.read().splitlines()\n",
    "\t\n",
    "import os\n",
    "treated_files = [f for f in os.listdir(model) if os.path.isfile(os.path.join(model, f))]\n",
    "\n",
    "for file in files:\n",
    "\ttemp = file + '.txt'\n",
    "\tif temp not in treated_files:\n",
    "\t\ttotreat.append(file)"
   ],
   "metadata": {
    "collapsed": false,
    "ExecuteTime": {
     "end_time": "2024-03-19T09:36:58.643194361Z",
     "start_time": "2024-03-19T09:36:58.626322040Z"
    }
   },
   "id": "2af7b2d26b15090e",
   "execution_count": 7,
   "outputs": []
  },
  {
   "cell_type": "code",
   "source": [
    "from multiprocessing import Pool\n",
    "\n",
    "def treat(file):\n",
    "\tprint(file)\n",
    "\timg_path = os.path.join(path, file)\n",
    "\tresult = ocr_treatment(img_path)\n",
    "\tsave_txt(result, model + '/' + file)\n",
    "\n",
    "with Pool(4) as p:\n",
    "    print(p.map(treat, totreat))"
   ],
   "metadata": {
    "collapsed": false,
    "is_executing": true,
    "ExecuteTime": {
     "start_time": "2024-03-19T07:46:00.200247744Z"
    }
   },
   "id": "a8a5b1387596d800",
   "execution_count": null,
   "outputs": []
  },
  {
   "cell_type": "code",
   "source": [
    "import os\n",
    "len([name for name in os.listdir(model) if os.path.isfile(os.path.join(model, name))])"
   ],
   "metadata": {
    "collapsed": false,
    "ExecuteTime": {
     "end_time": "2024-03-20T08:01:56.357299310Z",
     "start_time": "2024-03-20T08:01:56.313446823Z"
    }
   },
   "id": "b3b6305432515fbd",
   "execution_count": 7,
   "outputs": []
  },
  {
   "cell_type": "code",
   "source": [
    "models_detection = [\n",
    "\t'db_resnet34',\n",
    "\t'db_resnet50',\n",
    "\t'db_mobilenet_v3_large',\n",
    "\t'linknet_resnet18',\n",
    "\t'linknet_resnet34',\n",
    "\t'linknet_resnet50'\n",
    "]"
   ],
   "metadata": {
    "collapsed": false,
    "ExecuteTime": {
     "end_time": "2024-03-24T08:40:04.244536437Z",
     "start_time": "2024-03-24T08:40:04.239812305Z"
    }
   },
   "id": "24e4f8bc2f91389e",
   "execution_count": 1,
   "outputs": []
  },
  {
   "cell_type": "code",
   "source": [
    "models_recognition = [\n",
    "\t'crnn_vgg16_bn',\n",
    "\t'crnn_mobilenet_v3_small',\n",
    "\t'crnn_mobilenet_v3_large',\n",
    "\t'master',\n",
    "\t'sar_resnet31',\n",
    "\t'vitstr_small',\n",
    "\t'vitstr_base',\n",
    "\t'parseq'\n",
    "]"
   ],
   "metadata": {
    "collapsed": false,
    "ExecuteTime": {
     "end_time": "2024-03-24T08:40:05.384251278Z",
     "start_time": "2024-03-24T08:40:05.370178281Z"
    }
   },
   "id": "cc3268d8c079848d",
   "execution_count": 2,
   "outputs": []
  },
  {
   "cell_type": "code",
   "source": [],
   "metadata": {
    "collapsed": false
   },
   "id": "21f386d0ea5fb035",
   "execution_count": null,
   "outputs": []
  }
 ],
 "metadata": {
  "kernelspec": {
   "display_name": "Python 3",
   "language": "python",
   "name": "python3"
  },
  "language_info": {
   "codemirror_mode": {
    "name": "ipython",
    "version": 2
   },
   "file_extension": ".py",
   "mimetype": "text/x-python",
   "name": "python",
   "nbconvert_exporter": "python",
   "pygments_lexer": "ipython2",
   "version": "2.7.6"
  }
 },
 "nbformat": 4,
 "nbformat_minor": 5
}

{
 "cells": [
  {
   "cell_type": "markdown",
   "metadata": {
    "id": "OOb64_drQ8HZ"
   },
   "source": [
    "Looking for some examples on how to use docTR for OCR-related tasks? You've come to the right place 😀"
   ]
  },
  {
   "cell_type": "markdown",
   "metadata": {
    "id": "0eiwDT8qIh4X"
   },
   "source": [
    "# Installation\n",
    "\n",
    "Install all the dependencies to make the most out of docTR. The project provides two main [installation](https://mindee.github.io/doctr/latest/installing.html) streams: one for stable release, and developer mode."
   ]
  },
  {
   "cell_type": "markdown",
   "metadata": {
    "id": "Bh8uHvOVIvFW"
   },
   "source": [
    "## Latest stable release\n",
    "\n",
    "This will install the last stable release that was published by our teams on pypi. It is expected to provide a clean and non-buggy experience for all users."
   ]
  },
  {
   "cell_type": "code",
   "execution_count": 1,
   "metadata": {
    "id": "43tpfKq1IxQg",
    "ExecuteTime": {
     "end_time": "2024-03-16T08:22:16.004232951Z",
     "start_time": "2024-03-16T08:22:15.931211189Z"
    }
   },
   "outputs": [
    {
     "name": "stdout",
     "output_type": "stream",
     "text": [
      "zsh:1: no matches found: python-doctr[torch]\r\n"
     ]
    }
   ],
   "source": [
    "# TensorFlow\n",
    "# !pip install python-doctr[tf]\n",
    "# PyTorch\n",
    "!pip install python-doctr[torch]\n",
    "# Restart runtime\n",
    "exit()"
   ]
  },
  {
   "cell_type": "markdown",
   "metadata": {
    "id": "zUbhZiRiIxbN"
   },
   "source": [
    "## From source\n",
    "\n",
    "Before being staged for a stable release, we constantly iterate on the community feedback to improve the library. Bug fixes and performance improvements are regularly pushed to the project Git repository. Using this installation method, you will access all the latest features that have not yet made their way to a pypi release!"
   ]
  },
  {
   "cell_type": "code",
   "execution_count": 1,
   "metadata": {
    "colab": {
     "base_uri": "https://localhost:8080/",
     "height": 1000
    },
    "id": "AJZgLM_CIzKf",
    "outputId": "c4a89d66-258a-4897-89b9-3e8989044f6c",
    "ExecuteTime": {
     "end_time": "2024-03-16T08:23:00.223647404Z",
     "start_time": "2024-03-16T08:22:31.795511632Z"
    }
   },
   "outputs": [
    {
     "name": "stdout",
     "output_type": "stream",
     "text": [
      "[sudo] password for skit: \r\n",
      "Collecting pycairo\r\n",
      "  Downloading pycairo-1.26.0.tar.gz (346 kB)\r\n",
      "\u001B[2K     \u001B[90m━━━━━━━━━━━━━━━━━━━━━━━━━━━━━━━━━━━━━━━\u001B[0m \u001B[32m346.9/346.9 kB\u001B[0m \u001B[31m4.6 MB/s\u001B[0m eta \u001B[36m0:00:00\u001B[0ma \u001B[36m0:00:01\u001B[0m\r\n",
      "\u001B[?25h  Installing build dependencies ... \u001B[?25l-^C\r\n",
      "\u001B[?25canceled\r\n",
      "\u001B[31mERROR: Operation cancelled by user\u001B[0m\u001B[31m\r\n",
      "\u001B[0mzsh:1: no matches found: python-doctr[torch]@git+https://github.com/mindee/doctr.git\r\n"
     ]
    }
   ],
   "source": [
    "# Colab related installations to install pyproject.toml projects correctly\n",
    "!sudo apt install libcairo2-dev pkg-config\n",
    "!pip3 install pycairo\n",
    "# Install the most up-to-date version from GitHub\n",
    "# TensorFlow\n",
    "# !pip install python-doctr[tf]@git+https://github.com/mindee/doctr.git\n",
    "# PyTorch\n",
    "!pip3 install python-doctr[torch]@git+https://github.com/mindee/doctr.git\n",
    "# Restart runtime\n",
    "exit()"
   ]
  },
  {
   "cell_type": "markdown",
   "metadata": {
    "id": "RvJ3PzAQI0zK"
   },
   "source": [
    "Now go to  `Runtime/Restart runtime` for your changes to take effect!"
   ]
  },
  {
   "cell_type": "markdown",
   "metadata": {
    "id": "r2mgRuCaJY4F"
   },
   "source": [
    "# Basic usage\n",
    "\n",
    "We're going to review the main features of docTR 🎁\n",
    "And for you to have a proper overview of its capabilities, we will need some free fonts for a proper output visualization:"
   ]
  },
  {
   "cell_type": "code",
   "execution_count": null,
   "metadata": {
    "colab": {
     "base_uri": "https://localhost:8080/"
    },
    "id": "2Qhrp88TPDZi",
    "outputId": "b7564f99-6b6e-42f4-ffdf-99a7b9a86758"
   },
   "outputs": [],
   "source": [
    "# Install some free fonts for result rendering\n",
    "!sudo apt-get install fonts-freefont-ttf -y"
   ]
  },
  {
   "cell_type": "markdown",
   "metadata": {
    "id": "Fe7KuocKSWX9"
   },
   "source": [
    "Let's take care of all the imports directly"
   ]
  },
  {
   "cell_type": "code",
   "execution_count": 1,
   "metadata": {
    "id": "xSoeo0hRJbnU",
    "ExecuteTime": {
     "end_time": "2024-03-16T08:34:53.254893763Z",
     "start_time": "2024-03-16T08:34:50.656357918Z"
    }
   },
   "outputs": [],
   "source": [
    "%matplotlib inline\n",
    "import os\n",
    "\n",
    "# Let's pick the desired backend\n",
    "# os.environ['USE_TF'] = '1'\n",
    "os.environ['USE_TORCH'] = '1'\n",
    "\n",
    "import matplotlib.pyplot as plt\n",
    "\n",
    "from doctr.io import DocumentFile\n",
    "from doctr.models import ocr_predictor"
   ]
  },
  {
   "cell_type": "markdown",
   "metadata": {
    "id": "7wwEmHqZSaLF"
   },
   "source": [
    "For the next steps, we will need a proper PDF document that will be used to showcase the library features"
   ]
  },
  {
   "cell_type": "code",
   "execution_count": 2,
   "metadata": {
    "colab": {
     "base_uri": "https://localhost:8080/"
    },
    "id": "UIBwFsVuJocy",
    "outputId": "879f12d7-a893-409a-ddcf-a322666c384b",
    "ExecuteTime": {
     "end_time": "2024-03-16T08:34:58.136568585Z",
     "start_time": "2024-03-16T08:34:56.852017512Z"
    }
   },
   "outputs": [
    {
     "name": "stdout",
     "output_type": "stream",
     "text": [
      "--2024-03-16 09:34:56--  https://eforms.com/download/2019/01/Cash-Payment-Receipt-Template.pdf\r\n",
      "Resolving eforms.com (eforms.com)... 2606:4700:20::681a:118, 2606:4700:20::ac43:49bc, 2606:4700:20::681a:18, ...\r\n",
      "Connecting to eforms.com (eforms.com)|2606:4700:20::681a:118|:443... connected.\r\n",
      "HTTP request sent, awaiting response... 200 OK\r\n",
      "Length: 16080 (16K) [application/pdf]\r\n",
      "Saving to: ‘Cash-Payment-Receipt-Template.pdf’\r\n",
      "\r\n",
      "Cash-Payment-Receip 100%[===================>]  15.70K  --.-KB/s    in 0s      \r\n",
      "\r\n",
      "2024-03-16 09:34:57 (153 MB/s) - ‘Cash-Payment-Receipt-Template.pdf’ saved [16080/16080]\r\n",
      "\r\n",
      "Number of pages: 1\n"
     ]
    }
   ],
   "source": [
    "# Download a sample\n",
    "!wget https://eforms.com/download/2019/01/Cash-Payment-Receipt-Template.pdf\n",
    "# Read the file\n",
    "doc = DocumentFile.from_pdf(\"Cash-Payment-Receipt-Template.pdf\")\n",
    "print(f\"Number of pages: {len(doc)}\")"
   ]
  },
  {
   "cell_type": "markdown",
   "metadata": {
    "id": "cM6PPiWpSmb0"
   },
   "source": [
    "docTR is, under the hood, running Deep Learning models to perform the different tasks it supports. Those models were built and trained with very popular frameworks for maximum compatibility (you will be pleased to know that you can switch from [PyTorch](https://pytorch.org/) to [TensorFlow](https://www.tensorflow.org/) without noticing any difference for you). By default, our high-level API sets the best default values so that you get high performing models without having to know anything about it. All of this is wrapper in a `Predictor` object, which will take care of pre-processing, model inference and post-processing for you ⚡\n",
    "\n",
    "Let's instantiate one!"
   ]
  },
  {
   "cell_type": "code",
   "execution_count": 3,
   "metadata": {
    "colab": {
     "base_uri": "https://localhost:8080/",
     "height": 115,
     "referenced_widgets": [
      "853d540efdb64483b090f7208786a60f",
      "47f6efd53b2f4373ba1ee2fd2b625407",
      "b246851e58964994b068e7a69c753eab",
      "12c6398f0f994a6a8234d74bffbe3adf",
      "0c8ccb5e9ce24f979cfeb0bf3568e1d1",
      "48273d650e164958ad2309eee9eafbac",
      "badeefe02d7c4735963f60a26d53403a",
      "8b3aefd84fb545a1bacd1b58a7b87d06",
      "255d40d50e00452f8be94872551926d3",
      "808b2f2294434286859c45ee2ebc8329",
      "71f57cf815c944eda27ad2de5915c38d",
      "9909eded3357434195a3a7a94a0c2e7d",
      "de13fcd0c7214d7aa250269623ef28ed",
      "6419270b9b1441eaba2ca28208a5f4f4",
      "6c7aca05daf042148d1a327847a3f009",
      "8653936bdf624200982025e4c5e12bde",
      "cad3b443db364e318f48a140f46d0828",
      "7f1a128cebcd41f7920f2b2fcb4f0b9b",
      "a1ea585d5f394d9aa3668183fda69fa3",
      "e18fcb374f5c4fd48d3634bf4837e169",
      "a554b6e0f52e4f5bbeb28917d67f6518",
      "eea9400a14de45f583f37f5bbfa3952c"
     ]
    },
    "id": "WAoUcVQbKIfT",
    "outputId": "68992416-2561-4eca-ff31-1350260ad630",
    "ExecuteTime": {
     "end_time": "2024-03-16T08:35:14.073448324Z",
     "start_time": "2024-03-16T08:35:05.876130695Z"
    }
   },
   "outputs": [
    {
     "name": "stdout",
     "output_type": "stream",
     "text": [
      "Downloading https://doctr-static.mindee.com/models?id=v0.7.0/db_resnet50-79bd7d70.pt&src=0 to /home/skit/.cache/doctr/models/db_resnet50-79bd7d70.pt\n"
     ]
    },
    {
     "data": {
      "text/plain": "  0%|          | 0/102021912 [00:00<?, ?it/s]",
      "application/vnd.jupyter.widget-view+json": {
       "version_major": 2,
       "version_minor": 0,
       "model_id": "b8eea57219e34fc89b22e299d2780f2d"
      }
     },
     "metadata": {},
     "output_type": "display_data"
    },
    {
     "name": "stdout",
     "output_type": "stream",
     "text": [
      "Downloading https://doctr-static.mindee.com/models?id=v0.3.1/crnn_vgg16_bn-9762b0b0.pt&src=0 to /home/skit/.cache/doctr/models/crnn_vgg16_bn-9762b0b0.pt\n"
     ]
    },
    {
     "data": {
      "text/plain": "  0%|          | 0/63286381 [00:00<?, ?it/s]",
      "application/vnd.jupyter.widget-view+json": {
       "version_major": 2,
       "version_minor": 0,
       "model_id": "097402b5a97847da9c4866fa55e093fa"
      }
     },
     "metadata": {},
     "output_type": "display_data"
    }
   ],
   "source": [
    "# Instantiate a pretrained model\n",
    "predictor = ocr_predictor(pretrained=True)"
   ]
  },
  {
   "cell_type": "markdown",
   "metadata": {
    "id": "PKKYSs0ET0XQ"
   },
   "source": [
    "By default, PyTorch model provides a nice visual description of a model, which is handy when it comes to debugging or knowing what you just created. We also added a similar feature for TensorFlow backend so that you don't miss on this nice assistance.\n",
    "\n",
    "Let's dive into this model 🕵"
   ]
  },
  {
   "cell_type": "code",
   "execution_count": 4,
   "metadata": {
    "colab": {
     "base_uri": "https://localhost:8080/"
    },
    "id": "urR0KyUYOT-B",
    "outputId": "0fb427b8-5deb-4f49-b171-c79296aa16cc",
    "ExecuteTime": {
     "end_time": "2024-03-16T08:35:17.998178834Z",
     "start_time": "2024-03-16T08:35:17.991995830Z"
    }
   },
   "outputs": [
    {
     "name": "stdout",
     "output_type": "stream",
     "text": [
      "OCRPredictor(\n",
      "  (det_predictor): DetectionPredictor(\n",
      "    (pre_processor): PreProcessor(\n",
      "      (resize): Resize(output_size=(1024, 1024), interpolation='bilinear', preserve_aspect_ratio=True, symmetric_pad=True)\n",
      "      (normalize): Normalize(mean=(0.798, 0.785, 0.772), std=(0.264, 0.2749, 0.287))\n",
      "    )\n",
      "    (model): DBNet(\n",
      "      (feat_extractor): IntermediateLayerGetter(\n",
      "        (conv1): Conv2d(3, 64, kernel_size=(7, 7), stride=(2, 2), padding=(3, 3), bias=False)\n",
      "        (bn1): BatchNorm2d(64, eps=1e-05, momentum=0.1, affine=True, track_running_stats=True)\n",
      "        (relu): ReLU(inplace=True)\n",
      "        (maxpool): MaxPool2d(kernel_size=3, stride=2, padding=1, dilation=1, ceil_mode=False)\n",
      "        (layer1): Sequential(\n",
      "          (0): Bottleneck(\n",
      "            (conv1): Conv2d(64, 64, kernel_size=(1, 1), stride=(1, 1), bias=False)\n",
      "            (bn1): BatchNorm2d(64, eps=1e-05, momentum=0.1, affine=True, track_running_stats=True)\n",
      "            (conv2): Conv2d(64, 64, kernel_size=(3, 3), stride=(1, 1), padding=(1, 1), bias=False)\n",
      "            (bn2): BatchNorm2d(64, eps=1e-05, momentum=0.1, affine=True, track_running_stats=True)\n",
      "            (conv3): Conv2d(64, 256, kernel_size=(1, 1), stride=(1, 1), bias=False)\n",
      "            (bn3): BatchNorm2d(256, eps=1e-05, momentum=0.1, affine=True, track_running_stats=True)\n",
      "            (relu): ReLU(inplace=True)\n",
      "            (downsample): Sequential(\n",
      "              (0): Conv2d(64, 256, kernel_size=(1, 1), stride=(1, 1), bias=False)\n",
      "              (1): BatchNorm2d(256, eps=1e-05, momentum=0.1, affine=True, track_running_stats=True)\n",
      "            )\n",
      "          )\n",
      "          (1): Bottleneck(\n",
      "            (conv1): Conv2d(256, 64, kernel_size=(1, 1), stride=(1, 1), bias=False)\n",
      "            (bn1): BatchNorm2d(64, eps=1e-05, momentum=0.1, affine=True, track_running_stats=True)\n",
      "            (conv2): Conv2d(64, 64, kernel_size=(3, 3), stride=(1, 1), padding=(1, 1), bias=False)\n",
      "            (bn2): BatchNorm2d(64, eps=1e-05, momentum=0.1, affine=True, track_running_stats=True)\n",
      "            (conv3): Conv2d(64, 256, kernel_size=(1, 1), stride=(1, 1), bias=False)\n",
      "            (bn3): BatchNorm2d(256, eps=1e-05, momentum=0.1, affine=True, track_running_stats=True)\n",
      "            (relu): ReLU(inplace=True)\n",
      "          )\n",
      "          (2): Bottleneck(\n",
      "            (conv1): Conv2d(256, 64, kernel_size=(1, 1), stride=(1, 1), bias=False)\n",
      "            (bn1): BatchNorm2d(64, eps=1e-05, momentum=0.1, affine=True, track_running_stats=True)\n",
      "            (conv2): Conv2d(64, 64, kernel_size=(3, 3), stride=(1, 1), padding=(1, 1), bias=False)\n",
      "            (bn2): BatchNorm2d(64, eps=1e-05, momentum=0.1, affine=True, track_running_stats=True)\n",
      "            (conv3): Conv2d(64, 256, kernel_size=(1, 1), stride=(1, 1), bias=False)\n",
      "            (bn3): BatchNorm2d(256, eps=1e-05, momentum=0.1, affine=True, track_running_stats=True)\n",
      "            (relu): ReLU(inplace=True)\n",
      "          )\n",
      "        )\n",
      "        (layer2): Sequential(\n",
      "          (0): Bottleneck(\n",
      "            (conv1): Conv2d(256, 128, kernel_size=(1, 1), stride=(1, 1), bias=False)\n",
      "            (bn1): BatchNorm2d(128, eps=1e-05, momentum=0.1, affine=True, track_running_stats=True)\n",
      "            (conv2): Conv2d(128, 128, kernel_size=(3, 3), stride=(2, 2), padding=(1, 1), bias=False)\n",
      "            (bn2): BatchNorm2d(128, eps=1e-05, momentum=0.1, affine=True, track_running_stats=True)\n",
      "            (conv3): Conv2d(128, 512, kernel_size=(1, 1), stride=(1, 1), bias=False)\n",
      "            (bn3): BatchNorm2d(512, eps=1e-05, momentum=0.1, affine=True, track_running_stats=True)\n",
      "            (relu): ReLU(inplace=True)\n",
      "            (downsample): Sequential(\n",
      "              (0): Conv2d(256, 512, kernel_size=(1, 1), stride=(2, 2), bias=False)\n",
      "              (1): BatchNorm2d(512, eps=1e-05, momentum=0.1, affine=True, track_running_stats=True)\n",
      "            )\n",
      "          )\n",
      "          (1): Bottleneck(\n",
      "            (conv1): Conv2d(512, 128, kernel_size=(1, 1), stride=(1, 1), bias=False)\n",
      "            (bn1): BatchNorm2d(128, eps=1e-05, momentum=0.1, affine=True, track_running_stats=True)\n",
      "            (conv2): Conv2d(128, 128, kernel_size=(3, 3), stride=(1, 1), padding=(1, 1), bias=False)\n",
      "            (bn2): BatchNorm2d(128, eps=1e-05, momentum=0.1, affine=True, track_running_stats=True)\n",
      "            (conv3): Conv2d(128, 512, kernel_size=(1, 1), stride=(1, 1), bias=False)\n",
      "            (bn3): BatchNorm2d(512, eps=1e-05, momentum=0.1, affine=True, track_running_stats=True)\n",
      "            (relu): ReLU(inplace=True)\n",
      "          )\n",
      "          (2): Bottleneck(\n",
      "            (conv1): Conv2d(512, 128, kernel_size=(1, 1), stride=(1, 1), bias=False)\n",
      "            (bn1): BatchNorm2d(128, eps=1e-05, momentum=0.1, affine=True, track_running_stats=True)\n",
      "            (conv2): Conv2d(128, 128, kernel_size=(3, 3), stride=(1, 1), padding=(1, 1), bias=False)\n",
      "            (bn2): BatchNorm2d(128, eps=1e-05, momentum=0.1, affine=True, track_running_stats=True)\n",
      "            (conv3): Conv2d(128, 512, kernel_size=(1, 1), stride=(1, 1), bias=False)\n",
      "            (bn3): BatchNorm2d(512, eps=1e-05, momentum=0.1, affine=True, track_running_stats=True)\n",
      "            (relu): ReLU(inplace=True)\n",
      "          )\n",
      "          (3): Bottleneck(\n",
      "            (conv1): Conv2d(512, 128, kernel_size=(1, 1), stride=(1, 1), bias=False)\n",
      "            (bn1): BatchNorm2d(128, eps=1e-05, momentum=0.1, affine=True, track_running_stats=True)\n",
      "            (conv2): Conv2d(128, 128, kernel_size=(3, 3), stride=(1, 1), padding=(1, 1), bias=False)\n",
      "            (bn2): BatchNorm2d(128, eps=1e-05, momentum=0.1, affine=True, track_running_stats=True)\n",
      "            (conv3): Conv2d(128, 512, kernel_size=(1, 1), stride=(1, 1), bias=False)\n",
      "            (bn3): BatchNorm2d(512, eps=1e-05, momentum=0.1, affine=True, track_running_stats=True)\n",
      "            (relu): ReLU(inplace=True)\n",
      "          )\n",
      "        )\n",
      "        (layer3): Sequential(\n",
      "          (0): Bottleneck(\n",
      "            (conv1): Conv2d(512, 256, kernel_size=(1, 1), stride=(1, 1), bias=False)\n",
      "            (bn1): BatchNorm2d(256, eps=1e-05, momentum=0.1, affine=True, track_running_stats=True)\n",
      "            (conv2): Conv2d(256, 256, kernel_size=(3, 3), stride=(2, 2), padding=(1, 1), bias=False)\n",
      "            (bn2): BatchNorm2d(256, eps=1e-05, momentum=0.1, affine=True, track_running_stats=True)\n",
      "            (conv3): Conv2d(256, 1024, kernel_size=(1, 1), stride=(1, 1), bias=False)\n",
      "            (bn3): BatchNorm2d(1024, eps=1e-05, momentum=0.1, affine=True, track_running_stats=True)\n",
      "            (relu): ReLU(inplace=True)\n",
      "            (downsample): Sequential(\n",
      "              (0): Conv2d(512, 1024, kernel_size=(1, 1), stride=(2, 2), bias=False)\n",
      "              (1): BatchNorm2d(1024, eps=1e-05, momentum=0.1, affine=True, track_running_stats=True)\n",
      "            )\n",
      "          )\n",
      "          (1): Bottleneck(\n",
      "            (conv1): Conv2d(1024, 256, kernel_size=(1, 1), stride=(1, 1), bias=False)\n",
      "            (bn1): BatchNorm2d(256, eps=1e-05, momentum=0.1, affine=True, track_running_stats=True)\n",
      "            (conv2): Conv2d(256, 256, kernel_size=(3, 3), stride=(1, 1), padding=(1, 1), bias=False)\n",
      "            (bn2): BatchNorm2d(256, eps=1e-05, momentum=0.1, affine=True, track_running_stats=True)\n",
      "            (conv3): Conv2d(256, 1024, kernel_size=(1, 1), stride=(1, 1), bias=False)\n",
      "            (bn3): BatchNorm2d(1024, eps=1e-05, momentum=0.1, affine=True, track_running_stats=True)\n",
      "            (relu): ReLU(inplace=True)\n",
      "          )\n",
      "          (2): Bottleneck(\n",
      "            (conv1): Conv2d(1024, 256, kernel_size=(1, 1), stride=(1, 1), bias=False)\n",
      "            (bn1): BatchNorm2d(256, eps=1e-05, momentum=0.1, affine=True, track_running_stats=True)\n",
      "            (conv2): Conv2d(256, 256, kernel_size=(3, 3), stride=(1, 1), padding=(1, 1), bias=False)\n",
      "            (bn2): BatchNorm2d(256, eps=1e-05, momentum=0.1, affine=True, track_running_stats=True)\n",
      "            (conv3): Conv2d(256, 1024, kernel_size=(1, 1), stride=(1, 1), bias=False)\n",
      "            (bn3): BatchNorm2d(1024, eps=1e-05, momentum=0.1, affine=True, track_running_stats=True)\n",
      "            (relu): ReLU(inplace=True)\n",
      "          )\n",
      "          (3): Bottleneck(\n",
      "            (conv1): Conv2d(1024, 256, kernel_size=(1, 1), stride=(1, 1), bias=False)\n",
      "            (bn1): BatchNorm2d(256, eps=1e-05, momentum=0.1, affine=True, track_running_stats=True)\n",
      "            (conv2): Conv2d(256, 256, kernel_size=(3, 3), stride=(1, 1), padding=(1, 1), bias=False)\n",
      "            (bn2): BatchNorm2d(256, eps=1e-05, momentum=0.1, affine=True, track_running_stats=True)\n",
      "            (conv3): Conv2d(256, 1024, kernel_size=(1, 1), stride=(1, 1), bias=False)\n",
      "            (bn3): BatchNorm2d(1024, eps=1e-05, momentum=0.1, affine=True, track_running_stats=True)\n",
      "            (relu): ReLU(inplace=True)\n",
      "          )\n",
      "          (4): Bottleneck(\n",
      "            (conv1): Conv2d(1024, 256, kernel_size=(1, 1), stride=(1, 1), bias=False)\n",
      "            (bn1): BatchNorm2d(256, eps=1e-05, momentum=0.1, affine=True, track_running_stats=True)\n",
      "            (conv2): Conv2d(256, 256, kernel_size=(3, 3), stride=(1, 1), padding=(1, 1), bias=False)\n",
      "            (bn2): BatchNorm2d(256, eps=1e-05, momentum=0.1, affine=True, track_running_stats=True)\n",
      "            (conv3): Conv2d(256, 1024, kernel_size=(1, 1), stride=(1, 1), bias=False)\n",
      "            (bn3): BatchNorm2d(1024, eps=1e-05, momentum=0.1, affine=True, track_running_stats=True)\n",
      "            (relu): ReLU(inplace=True)\n",
      "          )\n",
      "          (5): Bottleneck(\n",
      "            (conv1): Conv2d(1024, 256, kernel_size=(1, 1), stride=(1, 1), bias=False)\n",
      "            (bn1): BatchNorm2d(256, eps=1e-05, momentum=0.1, affine=True, track_running_stats=True)\n",
      "            (conv2): Conv2d(256, 256, kernel_size=(3, 3), stride=(1, 1), padding=(1, 1), bias=False)\n",
      "            (bn2): BatchNorm2d(256, eps=1e-05, momentum=0.1, affine=True, track_running_stats=True)\n",
      "            (conv3): Conv2d(256, 1024, kernel_size=(1, 1), stride=(1, 1), bias=False)\n",
      "            (bn3): BatchNorm2d(1024, eps=1e-05, momentum=0.1, affine=True, track_running_stats=True)\n",
      "            (relu): ReLU(inplace=True)\n",
      "          )\n",
      "        )\n",
      "        (layer4): Sequential(\n",
      "          (0): Bottleneck(\n",
      "            (conv1): Conv2d(1024, 512, kernel_size=(1, 1), stride=(1, 1), bias=False)\n",
      "            (bn1): BatchNorm2d(512, eps=1e-05, momentum=0.1, affine=True, track_running_stats=True)\n",
      "            (conv2): Conv2d(512, 512, kernel_size=(3, 3), stride=(2, 2), padding=(1, 1), bias=False)\n",
      "            (bn2): BatchNorm2d(512, eps=1e-05, momentum=0.1, affine=True, track_running_stats=True)\n",
      "            (conv3): Conv2d(512, 2048, kernel_size=(1, 1), stride=(1, 1), bias=False)\n",
      "            (bn3): BatchNorm2d(2048, eps=1e-05, momentum=0.1, affine=True, track_running_stats=True)\n",
      "            (relu): ReLU(inplace=True)\n",
      "            (downsample): Sequential(\n",
      "              (0): Conv2d(1024, 2048, kernel_size=(1, 1), stride=(2, 2), bias=False)\n",
      "              (1): BatchNorm2d(2048, eps=1e-05, momentum=0.1, affine=True, track_running_stats=True)\n",
      "            )\n",
      "          )\n",
      "          (1): Bottleneck(\n",
      "            (conv1): Conv2d(2048, 512, kernel_size=(1, 1), stride=(1, 1), bias=False)\n",
      "            (bn1): BatchNorm2d(512, eps=1e-05, momentum=0.1, affine=True, track_running_stats=True)\n",
      "            (conv2): Conv2d(512, 512, kernel_size=(3, 3), stride=(1, 1), padding=(1, 1), bias=False)\n",
      "            (bn2): BatchNorm2d(512, eps=1e-05, momentum=0.1, affine=True, track_running_stats=True)\n",
      "            (conv3): Conv2d(512, 2048, kernel_size=(1, 1), stride=(1, 1), bias=False)\n",
      "            (bn3): BatchNorm2d(2048, eps=1e-05, momentum=0.1, affine=True, track_running_stats=True)\n",
      "            (relu): ReLU(inplace=True)\n",
      "          )\n",
      "          (2): Bottleneck(\n",
      "            (conv1): Conv2d(2048, 512, kernel_size=(1, 1), stride=(1, 1), bias=False)\n",
      "            (bn1): BatchNorm2d(512, eps=1e-05, momentum=0.1, affine=True, track_running_stats=True)\n",
      "            (conv2): Conv2d(512, 512, kernel_size=(3, 3), stride=(1, 1), padding=(1, 1), bias=False)\n",
      "            (bn2): BatchNorm2d(512, eps=1e-05, momentum=0.1, affine=True, track_running_stats=True)\n",
      "            (conv3): Conv2d(512, 2048, kernel_size=(1, 1), stride=(1, 1), bias=False)\n",
      "            (bn3): BatchNorm2d(2048, eps=1e-05, momentum=0.1, affine=True, track_running_stats=True)\n",
      "            (relu): ReLU(inplace=True)\n",
      "          )\n",
      "        )\n",
      "      )\n",
      "      (fpn): FeaturePyramidNetwork(\n",
      "        (in_branches): ModuleList(\n",
      "          (0): Sequential(\n",
      "            (0): Conv2d(256, 256, kernel_size=(1, 1), stride=(1, 1), bias=False)\n",
      "            (1): BatchNorm2d(256, eps=1e-05, momentum=0.1, affine=True, track_running_stats=True)\n",
      "            (2): ReLU(inplace=True)\n",
      "          )\n",
      "          (1): Sequential(\n",
      "            (0): Conv2d(512, 256, kernel_size=(1, 1), stride=(1, 1), bias=False)\n",
      "            (1): BatchNorm2d(256, eps=1e-05, momentum=0.1, affine=True, track_running_stats=True)\n",
      "            (2): ReLU(inplace=True)\n",
      "          )\n",
      "          (2): Sequential(\n",
      "            (0): Conv2d(1024, 256, kernel_size=(1, 1), stride=(1, 1), bias=False)\n",
      "            (1): BatchNorm2d(256, eps=1e-05, momentum=0.1, affine=True, track_running_stats=True)\n",
      "            (2): ReLU(inplace=True)\n",
      "          )\n",
      "          (3): Sequential(\n",
      "            (0): Conv2d(2048, 256, kernel_size=(1, 1), stride=(1, 1), bias=False)\n",
      "            (1): BatchNorm2d(256, eps=1e-05, momentum=0.1, affine=True, track_running_stats=True)\n",
      "            (2): ReLU(inplace=True)\n",
      "          )\n",
      "        )\n",
      "        (upsample): Upsample(scale_factor=2.0, mode='bilinear')\n",
      "        (out_branches): ModuleList(\n",
      "          (0): Sequential(\n",
      "            (0): Conv2d(256, 64, kernel_size=(3, 3), stride=(1, 1), padding=(1, 1), bias=False)\n",
      "            (1): BatchNorm2d(64, eps=1e-05, momentum=0.1, affine=True, track_running_stats=True)\n",
      "            (2): ReLU(inplace=True)\n",
      "            (3): Upsample(scale_factor=1.0, mode='bilinear')\n",
      "          )\n",
      "          (1): Sequential(\n",
      "            (0): Conv2d(256, 64, kernel_size=(3, 3), stride=(1, 1), padding=(1, 1), bias=False)\n",
      "            (1): BatchNorm2d(64, eps=1e-05, momentum=0.1, affine=True, track_running_stats=True)\n",
      "            (2): ReLU(inplace=True)\n",
      "            (3): Upsample(scale_factor=2.0, mode='bilinear')\n",
      "          )\n",
      "          (2): Sequential(\n",
      "            (0): Conv2d(256, 64, kernel_size=(3, 3), stride=(1, 1), padding=(1, 1), bias=False)\n",
      "            (1): BatchNorm2d(64, eps=1e-05, momentum=0.1, affine=True, track_running_stats=True)\n",
      "            (2): ReLU(inplace=True)\n",
      "            (3): Upsample(scale_factor=4.0, mode='bilinear')\n",
      "          )\n",
      "          (3): Sequential(\n",
      "            (0): Conv2d(256, 64, kernel_size=(3, 3), stride=(1, 1), padding=(1, 1), bias=False)\n",
      "            (1): BatchNorm2d(64, eps=1e-05, momentum=0.1, affine=True, track_running_stats=True)\n",
      "            (2): ReLU(inplace=True)\n",
      "            (3): Upsample(scale_factor=8.0, mode='bilinear')\n",
      "          )\n",
      "        )\n",
      "      )\n",
      "      (prob_head): Sequential(\n",
      "        (0): Conv2d(256, 64, kernel_size=(3, 3), stride=(1, 1), padding=(1, 1), bias=False)\n",
      "        (1): BatchNorm2d(64, eps=1e-05, momentum=0.1, affine=True, track_running_stats=True)\n",
      "        (2): ReLU(inplace=True)\n",
      "        (3): ConvTranspose2d(64, 64, kernel_size=(2, 2), stride=(2, 2), bias=False)\n",
      "        (4): BatchNorm2d(64, eps=1e-05, momentum=0.1, affine=True, track_running_stats=True)\n",
      "        (5): ReLU(inplace=True)\n",
      "        (6): ConvTranspose2d(64, 1, kernel_size=(2, 2), stride=(2, 2))\n",
      "      )\n",
      "      (thresh_head): Sequential(\n",
      "        (0): Conv2d(256, 64, kernel_size=(3, 3), stride=(1, 1), padding=(1, 1), bias=False)\n",
      "        (1): BatchNorm2d(64, eps=1e-05, momentum=0.1, affine=True, track_running_stats=True)\n",
      "        (2): ReLU(inplace=True)\n",
      "        (3): ConvTranspose2d(64, 64, kernel_size=(2, 2), stride=(2, 2), bias=False)\n",
      "        (4): BatchNorm2d(64, eps=1e-05, momentum=0.1, affine=True, track_running_stats=True)\n",
      "        (5): ReLU(inplace=True)\n",
      "        (6): ConvTranspose2d(64, 1, kernel_size=(2, 2), stride=(2, 2))\n",
      "      )\n",
      "    )\n",
      "  )\n",
      "  (reco_predictor): RecognitionPredictor(\n",
      "    (pre_processor): PreProcessor(\n",
      "      (resize): Resize(output_size=(32, 128), interpolation='bilinear', preserve_aspect_ratio=True, symmetric_pad=False)\n",
      "      (normalize): Normalize(mean=(0.694, 0.695, 0.693), std=(0.299, 0.296, 0.301))\n",
      "    )\n",
      "    (model): CRNN(\n",
      "      (feat_extractor): Sequential(\n",
      "        (0): Conv2d(3, 64, kernel_size=(3, 3), stride=(1, 1), padding=(1, 1))\n",
      "        (1): BatchNorm2d(64, eps=1e-05, momentum=0.1, affine=True, track_running_stats=True)\n",
      "        (2): ReLU(inplace=True)\n",
      "        (3): Conv2d(64, 64, kernel_size=(3, 3), stride=(1, 1), padding=(1, 1))\n",
      "        (4): BatchNorm2d(64, eps=1e-05, momentum=0.1, affine=True, track_running_stats=True)\n",
      "        (5): ReLU(inplace=True)\n",
      "        (6): MaxPool2d(kernel_size=2, stride=2, padding=0, dilation=1, ceil_mode=False)\n",
      "        (7): Conv2d(64, 128, kernel_size=(3, 3), stride=(1, 1), padding=(1, 1))\n",
      "        (8): BatchNorm2d(128, eps=1e-05, momentum=0.1, affine=True, track_running_stats=True)\n",
      "        (9): ReLU(inplace=True)\n",
      "        (10): Conv2d(128, 128, kernel_size=(3, 3), stride=(1, 1), padding=(1, 1))\n",
      "        (11): BatchNorm2d(128, eps=1e-05, momentum=0.1, affine=True, track_running_stats=True)\n",
      "        (12): ReLU(inplace=True)\n",
      "        (13): MaxPool2d(kernel_size=2, stride=2, padding=0, dilation=1, ceil_mode=False)\n",
      "        (14): Conv2d(128, 256, kernel_size=(3, 3), stride=(1, 1), padding=(1, 1))\n",
      "        (15): BatchNorm2d(256, eps=1e-05, momentum=0.1, affine=True, track_running_stats=True)\n",
      "        (16): ReLU(inplace=True)\n",
      "        (17): Conv2d(256, 256, kernel_size=(3, 3), stride=(1, 1), padding=(1, 1))\n",
      "        (18): BatchNorm2d(256, eps=1e-05, momentum=0.1, affine=True, track_running_stats=True)\n",
      "        (19): ReLU(inplace=True)\n",
      "        (20): Conv2d(256, 256, kernel_size=(3, 3), stride=(1, 1), padding=(1, 1))\n",
      "        (21): BatchNorm2d(256, eps=1e-05, momentum=0.1, affine=True, track_running_stats=True)\n",
      "        (22): ReLU(inplace=True)\n",
      "        (23): MaxPool2d(kernel_size=(2, 1), stride=(2, 1), padding=0, dilation=1, ceil_mode=False)\n",
      "        (24): Conv2d(256, 512, kernel_size=(3, 3), stride=(1, 1), padding=(1, 1))\n",
      "        (25): BatchNorm2d(512, eps=1e-05, momentum=0.1, affine=True, track_running_stats=True)\n",
      "        (26): ReLU(inplace=True)\n",
      "        (27): Conv2d(512, 512, kernel_size=(3, 3), stride=(1, 1), padding=(1, 1))\n",
      "        (28): BatchNorm2d(512, eps=1e-05, momentum=0.1, affine=True, track_running_stats=True)\n",
      "        (29): ReLU(inplace=True)\n",
      "        (30): Conv2d(512, 512, kernel_size=(3, 3), stride=(1, 1), padding=(1, 1))\n",
      "        (31): BatchNorm2d(512, eps=1e-05, momentum=0.1, affine=True, track_running_stats=True)\n",
      "        (32): ReLU(inplace=True)\n",
      "        (33): MaxPool2d(kernel_size=(2, 1), stride=(2, 1), padding=0, dilation=1, ceil_mode=False)\n",
      "        (34): Conv2d(512, 512, kernel_size=(3, 3), stride=(1, 1), padding=(1, 1))\n",
      "        (35): BatchNorm2d(512, eps=1e-05, momentum=0.1, affine=True, track_running_stats=True)\n",
      "        (36): ReLU(inplace=True)\n",
      "        (37): Conv2d(512, 512, kernel_size=(3, 3), stride=(1, 1), padding=(1, 1))\n",
      "        (38): BatchNorm2d(512, eps=1e-05, momentum=0.1, affine=True, track_running_stats=True)\n",
      "        (39): ReLU(inplace=True)\n",
      "        (40): Conv2d(512, 512, kernel_size=(3, 3), stride=(1, 1), padding=(1, 1))\n",
      "        (41): BatchNorm2d(512, eps=1e-05, momentum=0.1, affine=True, track_running_stats=True)\n",
      "        (42): ReLU(inplace=True)\n",
      "        (43): MaxPool2d(kernel_size=(2, 1), stride=(2, 1), padding=0, dilation=1, ceil_mode=False)\n",
      "      )\n",
      "      (decoder): LSTM(512, 128, num_layers=2, batch_first=True, bidirectional=True)\n",
      "      (linear): Linear(in_features=256, out_features=124, bias=True)\n",
      "      (postprocessor): CTCPostProcessor(vocab_size=123)\n",
      "    )\n",
      "  )\n",
      ")\n"
     ]
    }
   ],
   "source": [
    "# Display the architecture\n",
    "print(predictor)"
   ]
  },
  {
   "cell_type": "markdown",
   "metadata": {
    "id": "dlrtkNzTURAo"
   },
   "source": [
    "Here we are inspecting the most complex (and high-level) object of docTR API: an OCR predictor. Since docTR achieves Optical Character Recognition by first localizing textual elements (Text Detection), then extracting the corresponding text from each location (Text Recognition), the OCR Predictor wraps two sub-predictors: one for text detection, and the other for text recognition."
   ]
  },
  {
   "cell_type": "markdown",
   "metadata": {
    "id": "uyVfbzhUL-Rw"
   },
   "source": [
    "## Basic inference\n",
    "\n",
    "It looks quite complex, isn't it?\n",
    "Well that will not prevent you from easily get nice results. See for yourself:"
   ]
  },
  {
   "cell_type": "code",
   "execution_count": 5,
   "metadata": {
    "id": "RLPsdCj3PWzI",
    "ExecuteTime": {
     "end_time": "2024-03-16T08:35:29.918050223Z",
     "start_time": "2024-03-16T08:35:27.703912767Z"
    }
   },
   "outputs": [],
   "source": [
    "result = predictor(doc)"
   ]
  },
  {
   "cell_type": "markdown",
   "metadata": {
    "id": "eFAwQaKuPYXG"
   },
   "source": [
    "## Prediction visualization\n",
    "\n",
    "If you rightfully prefer to see the results with your eyes, docTR includes a few visualization features. We will first overlay our predictions on the original document:"
   ]
  },
  {
   "cell_type": "code",
   "execution_count": 6,
   "metadata": {
    "colab": {
     "base_uri": "https://localhost:8080/",
     "height": 751
    },
    "id": "sOcqPNnPMAE7",
    "outputId": "612671c6-726a-491f-c480-28ca2f97f84f",
    "ExecuteTime": {
     "end_time": "2024-03-16T08:35:32.977474037Z",
     "start_time": "2024-03-16T08:35:32.702512130Z"
    }
   },
   "outputs": [
    {
     "ename": "TypeError",
     "evalue": "Document.show() takes 1 positional argument but 2 were given",
     "output_type": "error",
     "traceback": [
      "\u001B[0;31m---------------------------------------------------------------------------\u001B[0m",
      "\u001B[0;31mTypeError\u001B[0m                                 Traceback (most recent call last)",
      "Cell \u001B[0;32mIn[6], line 1\u001B[0m\n\u001B[0;32m----> 1\u001B[0m \u001B[43mresult\u001B[49m\u001B[38;5;241;43m.\u001B[39;49m\u001B[43mshow\u001B[49m\u001B[43m(\u001B[49m\u001B[43mdoc\u001B[49m\u001B[43m)\u001B[49m\n",
      "\u001B[0;31mTypeError\u001B[0m: Document.show() takes 1 positional argument but 2 were given"
     ]
    }
   ],
   "source": [
    "result.show(doc)"
   ]
  },
  {
   "cell_type": "markdown",
   "metadata": {
    "id": "EnJERph1VXgN"
   },
   "source": [
    "Looks accurate!\n",
    "But we can go further: if the extracted information is correctly structured, we should be able to recreate the page entirely. So let's do this 🎨"
   ]
  },
  {
   "cell_type": "code",
   "execution_count": 7,
   "metadata": {
    "colab": {
     "base_uri": "https://localhost:8080/",
     "height": 248
    },
    "id": "QdoSNYzROeRv",
    "outputId": "9d7fcf6c-0535-4809-beb1-5ad4707d817c",
    "ExecuteTime": {
     "end_time": "2024-03-16T08:35:46.661288069Z",
     "start_time": "2024-03-16T08:35:46.227611520Z"
    }
   },
   "outputs": [
    {
     "data": {
      "text/plain": "<Figure size 640x480 with 1 Axes>",
      "image/png": "[encoded data removed]"
     },
     "metadata": {},
     "output_type": "display_data"
    }
   ],
   "source": [
    "synthetic_pages = result.synthesize()\n",
    "plt.imshow(synthetic_pages[0]); plt.axis('off'); plt.show()"
   ]
  },
  {
   "cell_type": "markdown",
   "metadata": {
    "id": "mEabainyPeV8"
   },
   "source": [
    "## Exporting results\n",
    "\n",
    "OK, so the predictions are relevant, but how would you integrate this into your own document processing pipeline? Perhaps you're not using Python at all?\n",
    "\n",
    "Well, if you happen to be using JSON or XML exports, they are already supported 🤗"
   ]
  },
  {
   "cell_type": "code",
   "execution_count": 8,
   "metadata": {
    "colab": {
     "base_uri": "https://localhost:8080/"
    },
    "id": "mhIolyjQOqLp",
    "outputId": "99c6c878-90e8-4e2c-a025-d2410e4baf9c",
    "ExecuteTime": {
     "end_time": "2024-03-16T08:38:09.255196654Z",
     "start_time": "2024-03-16T08:38:09.208633063Z"
    }
   },
   "outputs": [
    {
     "name": "stdout",
     "output_type": "stream",
     "text": [
      "{'pages': [{'page_idx': 0, 'dimensions': (1584, 1224), 'orientation': {'value': None, 'confidence': None}, 'language': {'value': None, 'confidence': None}, 'blocks': [{'geometry': ((0.3142233455882353, 0.0625), (0.6857766544117647, 0.083984375)), 'lines': [{'geometry': ((0.3142233455882353, 0.0625), (0.6857766544117647, 0.083984375)), 'words': [{'value': 'CASH', 'confidence': 0.9986966252326965, 'geometry': ((0.3142233455882353, 0.0625), (0.39763327205882354, 0.083984375))}, {'value': 'PAYMENT', 'confidence': 0.9999579191207886, 'geometry': ((0.40774356617647056, 0.064453125), (0.5492876838235294, 0.08203125))}, {'value': 'RECEIPT', 'confidence': 0.9815574884414673, 'geometry': ((0.5606617647058824, 0.064453125), (0.6857766544117647, 0.08203125))}]}], 'artefacts': []}, {'geometry': ((0.11707261029411764, 0.1142578125), (0.2775735294117647, 0.302734375)), 'lines': [{'geometry': ((0.11707261029411764, 0.1142578125), (0.2775735294117647, 0.1328125)), 'words': [{'value': 'Company', 'confidence': 0.9996799230575562, 'geometry': ((0.11707261029411764, 0.1142578125), (0.21185661764705882, 0.1328125))}, {'value': 'Name:', 'confidence': 0.9683524966239929, 'geometry': ((0.21438419117647056, 0.1142578125), (0.2775735294117647, 0.1298828125))}]}, {'geometry': ((0.11833639705882354, 0.1318359375), (0.2661994485294118, 0.1494140625)), 'words': [{'value': 'Street', 'confidence': 0.9982977509498596, 'geometry': ((0.11833639705882354, 0.1328125), (0.1764705882352941, 0.1484375))}, {'value': 'Address:', 'confidence': 0.9996151924133301, 'geometry': ((0.177734375, 0.1318359375), (0.2661994485294118, 0.1494140625))}]}, {'geometry': ((0.11707261029411764, 0.1513671875), (0.26493566176470584, 0.1708984375)), 'words': [{'value': 'City,', 'confidence': 0.977891206741333, 'geometry': ((0.11707261029411764, 0.1513671875), (0.16130514705882354, 0.1708984375))}, {'value': 'State,', 'confidence': 0.9999778270721436, 'geometry': ((0.16383272058823528, 0.1513671875), (0.22323069852941174, 0.169921875))}, {'value': 'Zip:', 'confidence': 0.9999171495437622, 'geometry': ((0.22449448529411764, 0.1513671875), (0.26493566176470584, 0.1708984375))}]}, {'geometry': ((0.11707261029411764, 0.1689453125), (0.18658088235294118, 0.1865234375)), 'words': [{'value': 'Phone:', 'confidence': 0.9987228512763977, 'geometry': ((0.11707261029411764, 0.1689453125), (0.18658088235294118, 0.1865234375))}]}, {'geometry': ((0.11833639705882354, 0.189453125), (0.16130514705882354, 0.205078125)), 'words': [{'value': 'Fax:', 'confidence': 0.9995716214179993, 'geometry': ((0.11833639705882354, 0.189453125), (0.16130514705882354, 0.205078125))}]}, {'geometry': ((0.11833639705882354, 0.2080078125), (0.177734375, 0.2236328125)), 'words': [{'value': 'Email:', 'confidence': 0.9889053106307983, 'geometry': ((0.11833639705882354, 0.2080078125), (0.177734375, 0.2236328125))}]}, {'geometry': ((0.11707261029411764, 0.2275390625), (0.2004825367647059, 0.2421875)), 'words': [{'value': 'Website:', 'confidence': 0.9718204140663147, 'geometry': ((0.11707261029411764, 0.2275390625), (0.2004825367647059, 0.2421875))}]}, {'geometry': ((0.11833639705882354, 0.287109375), (0.17015165441176472, 0.302734375)), 'words': [{'value': 'Date:', 'confidence': 0.9998430013656616, 'geometry': ((0.11833639705882354, 0.287109375), (0.17015165441176472, 0.302734375))}]}], 'artefacts': []}, {'geometry': ((0.6352251838235294, 0.2861328125), (0.7338005514705882, 0.3056640625)), 'lines': [{'geometry': ((0.6352251838235294, 0.2861328125), (0.7338005514705882, 0.3056640625)), 'words': [{'value': 'Receipt', 'confidence': 0.9998490810394287, 'geometry': ((0.6352251838235294, 0.287109375), (0.7097886029411764, 0.3056640625))}, {'value': '#:', 'confidence': 0.9941073656082153, 'geometry': ((0.7097886029411764, 0.2861328125), (0.7338005514705882, 0.3046875))}]}], 'artefacts': []}, {'geometry': ((0.36982996323529416, 0.369140625), (0.62890625, 0.390625)), 'lines': [{'geometry': ((0.36982996323529416, 0.369140625), (0.62890625, 0.390625)), 'words': [{'value': 'Payment', 'confidence': 0.9997414946556091, 'geometry': ((0.36982996323529416, 0.369140625), (0.48104319852941174, 0.390625))}, {'value': 'Information', 'confidence': 0.5286834239959717, 'geometry': ((0.4886259191176471, 0.37109375), (0.62890625, 0.3857421875))}]}], 'artefacts': []}, {'geometry': ((0.11580882352941174, 0.4150390625), (0.2763097426470588, 0.5166015625)), 'lines': [{'geometry': ((0.11580882352941174, 0.4150390625), (0.19921875, 0.435546875)), 'words': [{'value': 'Paid', 'confidence': 0.8552020192146301, 'geometry': ((0.11580882352941174, 0.4150390625), (0.16256893382352944, 0.43359375))}, {'value': 'By:', 'confidence': 0.9998890161514282, 'geometry': ((0.16383272058823528, 0.4150390625), (0.19921875, 0.435546875))}]}, {'geometry': ((0.11707261029411764, 0.45703125), (0.24597886029411764, 0.47265625)), 'words': [{'value': 'Amount', 'confidence': 0.9404519200325012, 'geometry': ((0.11707261029411764, 0.4580078125), (0.19289981617647056, 0.47265625))}, {'value': 'Paid:', 'confidence': 0.8482727408409119, 'geometry': ((0.19669117647058826, 0.45703125), (0.24597886029411764, 0.47265625))}]}, {'geometry': ((0.11707261029411764, 0.4970703125), (0.2763097426470588, 0.5166015625)), 'words': [{'value': 'For', 'confidence': 0.9999508857727051, 'geometry': ((0.11707261029411764, 0.498046875), (0.15245863970588236, 0.5146484375))}, {'value': 'Payment', 'confidence': 0.5062609910964966, 'geometry': ((0.15625, 0.4990234375), (0.2409237132352941, 0.5166015625))}, {'value': 'Of:', 'confidence': 0.9993427395820618, 'geometry': ((0.2434512867647059, 0.4970703125), (0.2763097426470588, 0.5146484375))}]}], 'artefacts': []}, {'geometry': ((0.5758272058823529, 0.4560546875), (0.6706112132352942, 0.4765625)), 'lines': [{'geometry': ((0.5758272058823529, 0.4560546875), (0.6706112132352942, 0.4765625)), 'words': [{'value': 'Dollars', 'confidence': 0.9987653493881226, 'geometry': ((0.5758272058823529, 0.4580078125), (0.6428079044117647, 0.47265625))}, {'value': '($', 'confidence': 0.8540180921554565, 'geometry': ((0.6465992647058824, 0.4560546875), (0.6706112132352942, 0.4765625))}]}], 'artefacts': []}, {'geometry': ((0.6023667279411765, 0.5693359375), (0.7439108455882353, 0.650390625)), 'lines': [{'geometry': ((0.6390165441176471, 0.5693359375), (0.7439108455882353, 0.587890625)), 'words': [{'value': 'Subtotal:', 'confidence': 0.9910095930099487, 'geometry': ((0.6390165441176471, 0.5712890625), (0.7236902573529411, 0.5859375))}, {'value': '$', 'confidence': 0.968765377998352, 'geometry': ((0.7262178308823529, 0.5693359375), (0.7439108455882353, 0.587890625))}]}, {'geometry': ((0.6023667279411765, 0.6005859375), (0.7375919117647058, 0.623046875)), 'words': [{'value': 'Tax', 'confidence': 0.9981436729431152, 'geometry': ((0.6023667279411765, 0.6015625), (0.6415441176470589, 0.6181640625))}, {'value': 'Rate', 'confidence': 0.98392254114151, 'geometry': ((0.6453354779411764, 0.6025390625), (0.6920955882352942, 0.6181640625))}, {'value': '(%):', 'confidence': 0.9984666109085083, 'geometry': ((0.6946231617647058, 0.6005859375), (0.7375919117647058, 0.623046875))}]}, {'geometry': ((0.6276424632352942, 0.6328125), (0.7439108455882353, 0.650390625)), 'words': [{'value': 'Total', 'confidence': 0.9944801330566406, 'geometry': ((0.6276424632352942, 0.6337890625), (0.6769301470588236, 0.6494140625))}, {'value': 'Tax:', 'confidence': 0.9994945526123047, 'geometry': ((0.6807215073529411, 0.6337890625), (0.7236902573529411, 0.6494140625))}, {'value': '$', 'confidence': 0.9165431261062622, 'geometry': ((0.7262178308823529, 0.6328125), (0.7439108455882353, 0.650390625))}]}], 'artefacts': []}, {'geometry': ((0.5328584558823529, 0.6640625), (0.7439108455882353, 0.74609375)), 'lines': [{'geometry': ((0.5442325367647058, 0.6640625), (0.7439108455882353, 0.6826171875)), 'words': [{'value': 'Total', 'confidence': 0.9952794313430786, 'geometry': ((0.5442325367647058, 0.6650390625), (0.5947840073529411, 0.6806640625))}, {'value': 'Amount', 'confidence': 0.9948137998580933, 'geometry': ((0.5985753676470589, 0.666015625), (0.6731387867647058, 0.6806640625))}, {'value': 'Due:', 'confidence': 0.9808953404426575, 'geometry': ((0.6781939338235294, 0.6650390625), (0.7236902573529411, 0.6806640625))}, {'value': '$', 'confidence': 0.968765377998352, 'geometry': ((0.7262178308823529, 0.6640625), (0.7439108455882353, 0.6826171875))}]}, {'geometry': ((0.5947840073529411, 0.6962890625), (0.7439108455882353, 0.7138671875)), 'words': [{'value': 'Amount', 'confidence': 0.9992595314979553, 'geometry': ((0.5947840073529411, 0.697265625), (0.6693474264705882, 0.7119140625))}, {'value': 'Paid:', 'confidence': 0.9998288154602051, 'geometry': ((0.6744025735294118, 0.6962890625), (0.7236902573529411, 0.7119140625))}, {'value': '$', 'confidence': 0.9571712017059326, 'geometry': ((0.7262178308823529, 0.6962890625), (0.7439108455882353, 0.7138671875))}]}, {'geometry': ((0.5328584558823529, 0.7275390625), (0.7439108455882353, 0.74609375)), 'words': [{'value': 'Remaining', 'confidence': 0.9821949601173401, 'geometry': ((0.5328584558823529, 0.728515625), (0.6352251838235294, 0.74609375))}, {'value': 'Balance:', 'confidence': 0.9984793066978455, 'geometry': ((0.6402803308823529, 0.728515625), (0.7224264705882353, 0.7431640625))}, {'value': '$', 'confidence': 0.9320849776268005, 'geometry': ((0.7262178308823529, 0.7275390625), (0.7439108455882353, 0.7451171875))}]}], 'artefacts': []}, {'geometry': ((0.11707261029411764, 0.7998046875), (0.33318014705882354, 0.859375)), 'lines': [{'geometry': ((0.11833639705882354, 0.7998046875), (0.24597886029411764, 0.8212890625)), 'words': [{'value': 'Received', 'confidence': 0.999503493309021, 'geometry': ((0.11833639705882354, 0.8017578125), (0.20806525735294118, 0.81640625))}, {'value': 'By:', 'confidence': 0.9999666213989258, 'geometry': ((0.21059283088235292, 0.7998046875), (0.24597886029411764, 0.8212890625))}]}, {'geometry': ((0.11707261029411764, 0.841796875), (0.33318014705882354, 0.859375)), 'words': [{'value': 'Authorized', 'confidence': 0.769504725933075, 'geometry': ((0.11707261029411764, 0.841796875), (0.22954963235294118, 0.8564453125))}, {'value': 'Signature', 'confidence': 0.9973081350326538, 'geometry': ((0.23460477941176472, 0.841796875), (0.33318014705882354, 0.859375))}]}], 'artefacts': []}, {'geometry': ((0.8273207720588236, 0.9404296875), (0.9132582720588236, 0.95703125)), 'lines': [{'geometry': ((0.8273207720588236, 0.9404296875), (0.9132582720588236, 0.95703125)), 'words': [{'value': 'Page', 'confidence': 0.9999768733978271, 'geometry': ((0.8273207720588236, 0.94140625), (0.8690257352941176, 0.95703125))}, {'value': '1', 'confidence': 0.9999892711639404, 'geometry': ((0.8702895220588236, 0.9423828125), (0.8829273897058824, 0.955078125))}, {'value': 'of', 'confidence': 0.9999127388000488, 'geometry': ((0.8816636029411764, 0.9404296875), (0.9018841911764706, 0.955078125))}, {'value': '1', 'confidence': 0.9999756813049316, 'geometry': ((0.9018841911764706, 0.94140625), (0.9132582720588236, 0.955078125))}]}], 'artefacts': []}]}]}\n"
     ]
    }
   ],
   "source": [
    "# JSON export\n",
    "json_export = result.export()\n",
    "print(json_export)\n"
   ]
  },
  {
   "cell_type": "code",
   "execution_count": null,
   "metadata": {
    "colab": {
     "base_uri": "https://localhost:8080/"
    },
    "id": "3RsuKIlYPnNf",
    "outputId": "f51e1748-edfe-4987-d987-082a2ede2004"
   },
   "outputs": [],
   "source": [
    "# XML export\n",
    "xml_output = result.export_as_xml()\n",
    "print(xml_output[0][0])"
   ]
  }
 ],
 "metadata": {
  "colab": {
   "collapsed_sections": [],
   "name": "docTR - Quick start.ipynb",
   "provenance": []
  },
  "kernelspec": {
   "display_name": "Python 3",
   "language": "python",
   "name": "python3"
  },
  "language_info": {
   "codemirror_mode": {
    "name": "ipython",
    "version": 3
   },
   "file_extension": ".py",
   "mimetype": "text/x-python",
   "name": "python",
   "nbconvert_exporter": "python",
   "pygments_lexer": "ipython3",
   "version": "3.8.8"
  },
  "widgets": {
   "application/vnd.jupyter.widget-state+json": {
    "0c8ccb5e9ce24f979cfeb0bf3568e1d1": {
     "model_module": "@jupyter-widgets/controls",
     "model_module_version": "1.5.0",
     "model_name": "HTMLModel",
     "state": {
      "_dom_classes": [],
      "_model_module": "@jupyter-widgets/controls",
      "_model_module_version": "1.5.0",
      "_model_name": "HTMLModel",
      "_view_count": null,
      "_view_module": "@jupyter-widgets/controls",
      "_view_module_version": "1.5.0",
      "_view_name": "HTMLView",
      "description": "",
      "description_tooltip": null,
      "layout": "IPY_MODEL_71f57cf815c944eda27ad2de5915c38d",
      "placeholder": "​",
      "style": "IPY_MODEL_808b2f2294434286859c45ee2ebc8329",
      "value": " 101971968/? [00:02&lt;00:00, 50674930.01it/s]"
     }
    },
    "12c6398f0f994a6a8234d74bffbe3adf": {
     "model_module": "@jupyter-widgets/controls",
     "model_module_version": "1.5.0",
     "model_name": "FloatProgressModel",
     "state": {
      "_dom_classes": [],
      "_model_module": "@jupyter-widgets/controls",
      "_model_module_version": "1.5.0",
      "_model_name": "FloatProgressModel",
      "_view_count": null,
      "_view_module": "@jupyter-widgets/controls",
      "_view_module_version": "1.5.0",
      "_view_name": "ProgressView",
      "bar_style": "success",
      "description": "",
      "description_tooltip": null,
      "layout": "IPY_MODEL_255d40d50e00452f8be94872551926d3",
      "max": 101971449,
      "min": 0,
      "orientation": "horizontal",
      "style": "IPY_MODEL_8b3aefd84fb545a1bacd1b58a7b87d06",
      "value": 101971449
     }
    },
    "255d40d50e00452f8be94872551926d3": {
     "model_module": "@jupyter-widgets/base",
     "model_module_version": "1.2.0",
     "model_name": "LayoutModel",
     "state": {
      "_model_module": "@jupyter-widgets/base",
      "_model_module_version": "1.2.0",
      "_model_name": "LayoutModel",
      "_view_count": null,
      "_view_module": "@jupyter-widgets/base",
      "_view_module_version": "1.2.0",
      "_view_name": "LayoutView",
      "align_content": null,
      "align_items": null,
      "align_self": null,
      "border": null,
      "bottom": null,
      "display": null,
      "flex": null,
      "flex_flow": null,
      "grid_area": null,
      "grid_auto_columns": null,
      "grid_auto_flow": null,
      "grid_auto_rows": null,
      "grid_column": null,
      "grid_gap": null,
      "grid_row": null,
      "grid_template_areas": null,
      "grid_template_columns": null,
      "grid_template_rows": null,
      "height": null,
      "justify_content": null,
      "justify_items": null,
      "left": null,
      "margin": null,
      "max_height": null,
      "max_width": null,
      "min_height": null,
      "min_width": null,
      "object_fit": null,
      "object_position": null,
      "order": null,
      "overflow": null,
      "overflow_x": null,
      "overflow_y": null,
      "padding": null,
      "right": null,
      "top": null,
      "visibility": null,
      "width": null
     }
    },
    "47f6efd53b2f4373ba1ee2fd2b625407": {
     "model_module": "@jupyter-widgets/base",
     "model_module_version": "1.2.0",
     "model_name": "LayoutModel",
     "state": {
      "_model_module": "@jupyter-widgets/base",
      "_model_module_version": "1.2.0",
      "_model_name": "LayoutModel",
      "_view_count": null,
      "_view_module": "@jupyter-widgets/base",
      "_view_module_version": "1.2.0",
      "_view_name": "LayoutView",
      "align_content": null,
      "align_items": null,
      "align_self": null,
      "border": null,
      "bottom": null,
      "display": null,
      "flex": null,
      "flex_flow": null,
      "grid_area": null,
      "grid_auto_columns": null,
      "grid_auto_flow": null,
      "grid_auto_rows": null,
      "grid_column": null,
      "grid_gap": null,
      "grid_row": null,
      "grid_template_areas": null,
      "grid_template_columns": null,
      "grid_template_rows": null,
      "height": null,
      "justify_content": null,
      "justify_items": null,
      "left": null,
      "margin": null,
      "max_height": null,
      "max_width": null,
      "min_height": null,
      "min_width": null,
      "object_fit": null,
      "object_position": null,
      "order": null,
      "overflow": null,
      "overflow_x": null,
      "overflow_y": null,
      "padding": null,
      "right": null,
      "top": null,
      "visibility": null,
      "width": null
     }
    },
    "48273d650e164958ad2309eee9eafbac": {
     "model_module": "@jupyter-widgets/controls",
     "model_module_version": "1.5.0",
     "model_name": "DescriptionStyleModel",
     "state": {
      "_model_module": "@jupyter-widgets/controls",
      "_model_module_version": "1.5.0",
      "_model_name": "DescriptionStyleModel",
      "_view_count": null,
      "_view_module": "@jupyter-widgets/base",
      "_view_module_version": "1.2.0",
      "_view_name": "StyleView",
      "description_width": ""
     }
    },
    "6419270b9b1441eaba2ca28208a5f4f4": {
     "model_module": "@jupyter-widgets/controls",
     "model_module_version": "1.5.0",
     "model_name": "HTMLModel",
     "state": {
      "_dom_classes": [],
      "_model_module": "@jupyter-widgets/controls",
      "_model_module_version": "1.5.0",
      "_model_name": "HTMLModel",
      "_view_count": null,
      "_view_module": "@jupyter-widgets/controls",
      "_view_module_version": "1.5.0",
      "_view_name": "HTMLView",
      "description": "",
      "description_tooltip": null,
      "layout": "IPY_MODEL_7f1a128cebcd41f7920f2b2fcb4f0b9b",
      "placeholder": "​",
      "style": "IPY_MODEL_cad3b443db364e318f48a140f46d0828",
      "value": ""
     }
    },
    "6c7aca05daf042148d1a327847a3f009": {
     "model_module": "@jupyter-widgets/controls",
     "model_module_version": "1.5.0",
     "model_name": "FloatProgressModel",
     "state": {
      "_dom_classes": [],
      "_model_module": "@jupyter-widgets/controls",
      "_model_module_version": "1.5.0",
      "_model_name": "FloatProgressModel",
      "_view_count": null,
      "_view_module": "@jupyter-widgets/controls",
      "_view_module_version": "1.5.0",
      "_view_name": "ProgressView",
      "bar_style": "success",
      "description": "",
      "description_tooltip": null,
      "layout": "IPY_MODEL_e18fcb374f5c4fd48d3634bf4837e169",
      "max": 63286381,
      "min": 0,
      "orientation": "horizontal",
      "style": "IPY_MODEL_a1ea585d5f394d9aa3668183fda69fa3",
      "value": 63286381
     }
    },
    "71f57cf815c944eda27ad2de5915c38d": {
     "model_module": "@jupyter-widgets/base",
     "model_module_version": "1.2.0",
     "model_name": "LayoutModel",
     "state": {
      "_model_module": "@jupyter-widgets/base",
      "_model_module_version": "1.2.0",
      "_model_name": "LayoutModel",
      "_view_count": null,
      "_view_module": "@jupyter-widgets/base",
      "_view_module_version": "1.2.0",
      "_view_name": "LayoutView",
      "align_content": null,
      "align_items": null,
      "align_self": null,
      "border": null,
      "bottom": null,
      "display": null,
      "flex": null,
      "flex_flow": null,
      "grid_area": null,
      "grid_auto_columns": null,
      "grid_auto_flow": null,
      "grid_auto_rows": null,
      "grid_column": null,
      "grid_gap": null,
      "grid_row": null,
      "grid_template_areas": null,
      "grid_template_columns": null,
      "grid_template_rows": null,
      "height": null,
      "justify_content": null,
      "justify_items": null,
      "left": null,
      "margin": null,
      "max_height": null,
      "max_width": null,
      "min_height": null,
      "min_width": null,
      "object_fit": null,
      "object_position": null,
      "order": null,
      "overflow": null,
      "overflow_x": null,
      "overflow_y": null,
      "padding": null,
      "right": null,
      "top": null,
      "visibility": null,
      "width": null
     }
    },
    "7f1a128cebcd41f7920f2b2fcb4f0b9b": {
     "model_module": "@jupyter-widgets/base",
     "model_module_version": "1.2.0",
     "model_name": "LayoutModel",
     "state": {
      "_model_module": "@jupyter-widgets/base",
      "_model_module_version": "1.2.0",
      "_model_name": "LayoutModel",
      "_view_count": null,
      "_view_module": "@jupyter-widgets/base",
      "_view_module_version": "1.2.0",
      "_view_name": "LayoutView",
      "align_content": null,
      "align_items": null,
      "align_self": null,
      "border": null,
      "bottom": null,
      "display": null,
      "flex": null,
      "flex_flow": null,
      "grid_area": null,
      "grid_auto_columns": null,
      "grid_auto_flow": null,
      "grid_auto_rows": null,
      "grid_column": null,
      "grid_gap": null,
      "grid_row": null,
      "grid_template_areas": null,
      "grid_template_columns": null,
      "grid_template_rows": null,
      "height": null,
      "justify_content": null,
      "justify_items": null,
      "left": null,
      "margin": null,
      "max_height": null,
      "max_width": null,
      "min_height": null,
      "min_width": null,
      "object_fit": null,
      "object_position": null,
      "order": null,
      "overflow": null,
      "overflow_x": null,
      "overflow_y": null,
      "padding": null,
      "right": null,
      "top": null,
      "visibility": null,
      "width": null
     }
    },
    "808b2f2294434286859c45ee2ebc8329": {
     "model_module": "@jupyter-widgets/controls",
     "model_module_version": "1.5.0",
     "model_name": "DescriptionStyleModel",
     "state": {
      "_model_module": "@jupyter-widgets/controls",
      "_model_module_version": "1.5.0",
      "_model_name": "DescriptionStyleModel",
      "_view_count": null,
      "_view_module": "@jupyter-widgets/base",
      "_view_module_version": "1.2.0",
      "_view_name": "StyleView",
      "description_width": ""
     }
    },
    "853d540efdb64483b090f7208786a60f": {
     "model_module": "@jupyter-widgets/controls",
     "model_module_version": "1.5.0",
     "model_name": "HBoxModel",
     "state": {
      "_dom_classes": [],
      "_model_module": "@jupyter-widgets/controls",
      "_model_module_version": "1.5.0",
      "_model_name": "HBoxModel",
      "_view_count": null,
      "_view_module": "@jupyter-widgets/controls",
      "_view_module_version": "1.5.0",
      "_view_name": "HBoxView",
      "box_style": "",
      "children": [
       "IPY_MODEL_b246851e58964994b068e7a69c753eab",
       "IPY_MODEL_12c6398f0f994a6a8234d74bffbe3adf",
       "IPY_MODEL_0c8ccb5e9ce24f979cfeb0bf3568e1d1"
      ],
      "layout": "IPY_MODEL_47f6efd53b2f4373ba1ee2fd2b625407"
     }
    },
    "8653936bdf624200982025e4c5e12bde": {
     "model_module": "@jupyter-widgets/controls",
     "model_module_version": "1.5.0",
     "model_name": "HTMLModel",
     "state": {
      "_dom_classes": [],
      "_model_module": "@jupyter-widgets/controls",
      "_model_module_version": "1.5.0",
      "_model_name": "HTMLModel",
      "_view_count": null,
      "_view_module": "@jupyter-widgets/controls",
      "_view_module_version": "1.5.0",
      "_view_name": "HTMLView",
      "description": "",
      "description_tooltip": null,
      "layout": "IPY_MODEL_eea9400a14de45f583f37f5bbfa3952c",
      "placeholder": "​",
      "style": "IPY_MODEL_a554b6e0f52e4f5bbeb28917d67f6518",
      "value": " 63287296/? [00:00&lt;00:00, 61257167.14it/s]"
     }
    },
    "8b3aefd84fb545a1bacd1b58a7b87d06": {
     "model_module": "@jupyter-widgets/controls",
     "model_module_version": "1.5.0",
     "model_name": "ProgressStyleModel",
     "state": {
      "_model_module": "@jupyter-widgets/controls",
      "_model_module_version": "1.5.0",
      "_model_name": "ProgressStyleModel",
      "_view_count": null,
      "_view_module": "@jupyter-widgets/base",
      "_view_module_version": "1.2.0",
      "_view_name": "StyleView",
      "bar_color": null,
      "description_width": ""
     }
    },
    "9909eded3357434195a3a7a94a0c2e7d": {
     "model_module": "@jupyter-widgets/controls",
     "model_module_version": "1.5.0",
     "model_name": "HBoxModel",
     "state": {
      "_dom_classes": [],
      "_model_module": "@jupyter-widgets/controls",
      "_model_module_version": "1.5.0",
      "_model_name": "HBoxModel",
      "_view_count": null,
      "_view_module": "@jupyter-widgets/controls",
      "_view_module_version": "1.5.0",
      "_view_name": "HBoxView",
      "box_style": "",
      "children": [
       "IPY_MODEL_6419270b9b1441eaba2ca28208a5f4f4",
       "IPY_MODEL_6c7aca05daf042148d1a327847a3f009",
       "IPY_MODEL_8653936bdf624200982025e4c5e12bde"
      ],
      "layout": "IPY_MODEL_de13fcd0c7214d7aa250269623ef28ed"
     }
    },
    "a1ea585d5f394d9aa3668183fda69fa3": {
     "model_module": "@jupyter-widgets/controls",
     "model_module_version": "1.5.0",
     "model_name": "ProgressStyleModel",
     "state": {
      "_model_module": "@jupyter-widgets/controls",
      "_model_module_version": "1.5.0",
      "_model_name": "ProgressStyleModel",
      "_view_count": null,
      "_view_module": "@jupyter-widgets/base",
      "_view_module_version": "1.2.0",
      "_view_name": "StyleView",
      "bar_color": null,
      "description_width": ""
     }
    },
    "a554b6e0f52e4f5bbeb28917d67f6518": {
     "model_module": "@jupyter-widgets/controls",
     "model_module_version": "1.5.0",
     "model_name": "DescriptionStyleModel",
     "state": {
      "_model_module": "@jupyter-widgets/controls",
      "_model_module_version": "1.5.0",
      "_model_name": "DescriptionStyleModel",
      "_view_count": null,
      "_view_module": "@jupyter-widgets/base",
      "_view_module_version": "1.2.0",
      "_view_name": "StyleView",
      "description_width": ""
     }
    },
    "b246851e58964994b068e7a69c753eab": {
     "model_module": "@jupyter-widgets/controls",
     "model_module_version": "1.5.0",
     "model_name": "HTMLModel",
     "state": {
      "_dom_classes": [],
      "_model_module": "@jupyter-widgets/controls",
      "_model_module_version": "1.5.0",
      "_model_name": "HTMLModel",
      "_view_count": null,
      "_view_module": "@jupyter-widgets/controls",
      "_view_module_version": "1.5.0",
      "_view_name": "HTMLView",
      "description": "",
      "description_tooltip": null,
      "layout": "IPY_MODEL_badeefe02d7c4735963f60a26d53403a",
      "placeholder": "​",
      "style": "IPY_MODEL_48273d650e164958ad2309eee9eafbac",
      "value": ""
     }
    },
    "badeefe02d7c4735963f60a26d53403a": {
     "model_module": "@jupyter-widgets/base",
     "model_module_version": "1.2.0",
     "model_name": "LayoutModel",
     "state": {
      "_model_module": "@jupyter-widgets/base",
      "_model_module_version": "1.2.0",
      "_model_name": "LayoutModel",
      "_view_count": null,
      "_view_module": "@jupyter-widgets/base",
      "_view_module_version": "1.2.0",
      "_view_name": "LayoutView",
      "align_content": null,
      "align_items": null,
      "align_self": null,
      "border": null,
      "bottom": null,
      "display": null,
      "flex": null,
      "flex_flow": null,
      "grid_area": null,
      "grid_auto_columns": null,
      "grid_auto_flow": null,
      "grid_auto_rows": null,
      "grid_column": null,
      "grid_gap": null,
      "grid_row": null,
      "grid_template_areas": null,
      "grid_template_columns": null,
      "grid_template_rows": null,
      "height": null,
      "justify_content": null,
      "justify_items": null,
      "left": null,
      "margin": null,
      "max_height": null,
      "max_width": null,
      "min_height": null,
      "min_width": null,
      "object_fit": null,
      "object_position": null,
      "order": null,
      "overflow": null,
      "overflow_x": null,
      "overflow_y": null,
      "padding": null,
      "right": null,
      "top": null,
      "visibility": null,
      "width": null
     }
    },
    "cad3b443db364e318f48a140f46d0828": {
     "model_module": "@jupyter-widgets/controls",
     "model_module_version": "1.5.0",
     "model_name": "DescriptionStyleModel",
     "state": {
      "_model_module": "@jupyter-widgets/controls",
      "_model_module_version": "1.5.0",
      "_model_name": "DescriptionStyleModel",
      "_view_count": null,
      "_view_module": "@jupyter-widgets/base",
      "_view_module_version": "1.2.0",
      "_view_name": "StyleView",
      "description_width": ""
     }
    },
    "de13fcd0c7214d7aa250269623ef28ed": {
     "model_module": "@jupyter-widgets/base",
     "model_module_version": "1.2.0",
     "model_name": "LayoutModel",
     "state": {
      "_model_module": "@jupyter-widgets/base",
      "_model_module_version": "1.2.0",
      "_model_name": "LayoutModel",
      "_view_count": null,
      "_view_module": "@jupyter-widgets/base",
      "_view_module_version": "1.2.0",
      "_view_name": "LayoutView",
      "align_content": null,
      "align_items": null,
      "align_self": null,
      "border": null,
      "bottom": null,
      "display": null,
      "flex": null,
      "flex_flow": null,
      "grid_area": null,
      "grid_auto_columns": null,
      "grid_auto_flow": null,
      "grid_auto_rows": null,
      "grid_column": null,
      "grid_gap": null,
      "grid_row": null,
      "grid_template_areas": null,
      "grid_template_columns": null,
      "grid_template_rows": null,
      "height": null,
      "justify_content": null,
      "justify_items": null,
      "left": null,
      "margin": null,
      "max_height": null,
      "max_width": null,
      "min_height": null,
      "min_width": null,
      "object_fit": null,
      "object_position": null,
      "order": null,
      "overflow": null,
      "overflow_x": null,
      "overflow_y": null,
      "padding": null,
      "right": null,
      "top": null,
      "visibility": null,
      "width": null
     }
    },
    "e18fcb374f5c4fd48d3634bf4837e169": {
     "model_module": "@jupyter-widgets/base",
     "model_module_version": "1.2.0",
     "model_name": "LayoutModel",
     "state": {
      "_model_module": "@jupyter-widgets/base",
      "_model_module_version": "1.2.0",
      "_model_name": "LayoutModel",
      "_view_count": null,
      "_view_module": "@jupyter-widgets/base",
      "_view_module_version": "1.2.0",
      "_view_name": "LayoutView",
      "align_content": null,
      "align_items": null,
      "align_self": null,
      "border": null,
      "bottom": null,
      "display": null,
      "flex": null,
      "flex_flow": null,
      "grid_area": null,
      "grid_auto_columns": null,
      "grid_auto_flow": null,
      "grid_auto_rows": null,
      "grid_column": null,
      "grid_gap": null,
      "grid_row": null,
      "grid_template_areas": null,
      "grid_template_columns": null,
      "grid_template_rows": null,
      "height": null,
      "justify_content": null,
      "justify_items": null,
      "left": null,
      "margin": null,
      "max_height": null,
      "max_width": null,
      "min_height": null,
      "min_width": null,
      "object_fit": null,
      "object_position": null,
      "order": null,
      "overflow": null,
      "overflow_x": null,
      "overflow_y": null,
      "padding": null,
      "right": null,
      "top": null,
      "visibility": null,
      "width": null
     }
    },
    "eea9400a14de45f583f37f5bbfa3952c": {
     "model_module": "@jupyter-widgets/base",
     "model_module_version": "1.2.0",
     "model_name": "LayoutModel",
     "state": {
      "_model_module": "@jupyter-widgets/base",
      "_model_module_version": "1.2.0",
      "_model_name": "LayoutModel",
      "_view_count": null,
      "_view_module": "@jupyter-widgets/base",
      "_view_module_version": "1.2.0",
      "_view_name": "LayoutView",
      "align_content": null,
      "align_items": null,
      "align_self": null,
      "border": null,
      "bottom": null,
      "display": null,
      "flex": null,
      "flex_flow": null,
      "grid_area": null,
      "grid_auto_columns": null,
      "grid_auto_flow": null,
      "grid_auto_rows": null,
      "grid_column": null,
      "grid_gap": null,
      "grid_row": null,
      "grid_template_areas": null,
      "grid_template_columns": null,
      "grid_template_rows": null,
      "height": null,
      "justify_content": null,
      "justify_items": null,
      "left": null,
      "margin": null,
      "max_height": null,
      "max_width": null,
      "min_height": null,
      "min_width": null,
      "object_fit": null,
      "object_position": null,
      "order": null,
      "overflow": null,
      "overflow_x": null,
      "overflow_y": null,
      "padding": null,
      "right": null,
      "top": null,
      "visibility": null,
      "width": null
     }
    }
   }
  }
 },
 "nbformat": 4,
 "nbformat_minor": 1
}

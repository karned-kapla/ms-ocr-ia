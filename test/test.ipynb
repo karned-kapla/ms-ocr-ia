{
 "cells": [
  {
   "cell_type": "markdown",
   "source": [
    "# test de validation"
   ],
   "metadata": {
    "collapsed": false
   },
   "id": "d75956277d324bca"
  },
  {
   "cell_type": "code",
   "execution_count": 1,
   "id": "initial_id",
   "metadata": {
    "collapsed": true,
    "ExecuteTime": {
     "end_time": "2024-03-17T09:40:07.132837581Z",
     "start_time": "2024-03-17T09:40:04.879320697Z"
    }
   },
   "source": [
    "%matplotlib inline\n",
    "import os\n",
    "import json\n",
    "\n",
    "os.environ['USE_TORCH'] = '1'\n",
    "\n",
    "import matplotlib.pyplot as plt\n",
    "\n",
    "from doctr.io import DocumentFile\n",
    "from doctr.models import ocr_predictor"
   ],
   "outputs": []
  },
  {
   "cell_type": "code",
   "source": [
    "def ocr_treatment(img_path):\n",
    "\tdoc = DocumentFile.from_images(img_path)\n",
    "\tpredictor = ocr_predictor('linknet_resnet18', pretrained=True, assume_straight_pages=False, preserve_aspect_ratio=True, det_bs=4, reco_bs=1024)\n",
    "\tresult = predictor(doc)\n",
    "\treturn result\n",
    "\n",
    "def ocr_display(result):\n",
    "\tsynthetic_pages = result.synthesize()\n",
    "\tplt.figure(figsize=(15, 15))\n",
    "\tplt.imshow(synthetic_pages[0]); plt.axis('off'); plt.show()\n",
    "\t\n",
    "\t\n",
    "def extract_text_blocks(json_data):\n",
    "    text_blocks = []\n",
    "    for page in json_data[\"pages\"]:\n",
    "        for block in page[\"blocks\"]:\n",
    "            text = \"\"\n",
    "            for line in block[\"lines\"]:\n",
    "                for word in line[\"words\"]:\n",
    "                    text += word[\"value\"] + \" \"\n",
    "            text_blocks.append(text.strip())\n",
    "    return text_blocks\n",
    "\n",
    "\n",
    "def ocr_display_text(result):\n",
    "\tjson_data = result.export()\n",
    "\ttext_blocks = extract_text_blocks(json_data)\n",
    "\tfor i, block in enumerate(text_blocks, start=1):\n",
    "\t\tprint(f\"Block {i}: {block}\")\n",
    "\t\n",
    "\t\n",
    "def save_json(result, file_name='result'):\n",
    "\twith open(file_name + '.json', 'w') as f:\n",
    "\t\tf.write(json.dumps(result.export()))\n",
    "\t\n",
    "\t\n",
    "def save_txt(result, file_name='result'):\n",
    "\twith open(file_name + '.txt', 'w') as f:\n",
    "\t\tf.write(result.render())"
   ],
   "metadata": {
    "collapsed": false,
    "ExecuteTime": {
     "end_time": "2024-03-18T10:58:24.517118566Z",
     "start_time": "2024-03-18T10:58:24.395063441Z"
    }
   },
   "id": "739228f2bfc4edd7",
   "execution_count": 8,
   "outputs": []
  },
  {
   "cell_type": "code",
   "source": [
    "img_path = 'img02.jpg'\n",
    "result = ocr_treatment(img_path)\n",
    "result.show()\n",
    "#ocr_display(result)\n",
    "ocr_display_text(result)\n",
    "save_txt(result)\n",
    "#save_json(result)"
   ],
   "metadata": {
    "collapsed": false,
    "ExecuteTime": {
     "end_time": "2024-03-18T10:58:52.286483447Z",
     "start_time": "2024-03-18T10:58:47.357456378Z"
    }
   },
   "id": "8b3795c0d2dc1e29",
   "execution_count": 10,
   "outputs": []
  }
 ],
 "metadata": {
  "kernelspec": {
   "display_name": "Python 3",
   "language": "python",
   "name": "python3"
  },
  "language_info": {
   "codemirror_mode": {
    "name": "ipython",
    "version": 2
   },
   "file_extension": ".py",
   "mimetype": "text/x-python",
   "name": "python",
   "nbconvert_exporter": "python",
   "pygments_lexer": "ipython2",
   "version": "2.7.6"
  }
 },
 "nbformat": 4,
 "nbformat_minor": 5
}
